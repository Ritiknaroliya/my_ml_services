{
 "cells": [
  {
   "cell_type": "code",
   "execution_count": 2,
   "id": "74582d4e",
   "metadata": {},
   "outputs": [],
   "source": [
    "import pandas as pd\n",
    "import numpy as np\n",
    "import matplotlib.pyplot as plt\n",
    "import seaborn as sns\n",
    "import datetime as dt\n",
    "from sklearn.preprocessing import MinMaxScaler\n",
    "from sklearn.cluster import KMeans\n",
    "from sklearn.metrics import silhouette_score"
   ]
  },
  {
   "cell_type": "code",
   "execution_count": 3,
   "id": "a8947e92",
   "metadata": {},
   "outputs": [],
   "source": [
    "ds = pd.read_excel(\"C:\\\\Users\\\\Ritik_Naroliya\\\\Downloads\\\\Online Retail.xlsx\")"
   ]
  },
  {
   "cell_type": "code",
   "execution_count": 4,
   "id": "3bfb16fd",
   "metadata": {},
   "outputs": [
    {
     "data": {
      "text/html": [
       "<div>\n",
       "<style scoped>\n",
       "    .dataframe tbody tr th:only-of-type {\n",
       "        vertical-align: middle;\n",
       "    }\n",
       "\n",
       "    .dataframe tbody tr th {\n",
       "        vertical-align: top;\n",
       "    }\n",
       "\n",
       "    .dataframe thead th {\n",
       "        text-align: right;\n",
       "    }\n",
       "</style>\n",
       "<table border=\"1\" class=\"dataframe\">\n",
       "  <thead>\n",
       "    <tr style=\"text-align: right;\">\n",
       "      <th></th>\n",
       "      <th>InvoiceNo</th>\n",
       "      <th>StockCode</th>\n",
       "      <th>Description</th>\n",
       "      <th>Quantity</th>\n",
       "      <th>InvoiceDate</th>\n",
       "      <th>UnitPrice</th>\n",
       "      <th>CustomerID</th>\n",
       "      <th>Country</th>\n",
       "    </tr>\n",
       "  </thead>\n",
       "  <tbody>\n",
       "    <tr>\n",
       "      <th>0</th>\n",
       "      <td>536365</td>\n",
       "      <td>85123A</td>\n",
       "      <td>WHITE HANGING HEART T-LIGHT HOLDER</td>\n",
       "      <td>6</td>\n",
       "      <td>2010-12-01 08:26:00</td>\n",
       "      <td>2.55</td>\n",
       "      <td>17850.0</td>\n",
       "      <td>United Kingdom</td>\n",
       "    </tr>\n",
       "    <tr>\n",
       "      <th>1</th>\n",
       "      <td>536365</td>\n",
       "      <td>71053</td>\n",
       "      <td>WHITE METAL LANTERN</td>\n",
       "      <td>6</td>\n",
       "      <td>2010-12-01 08:26:00</td>\n",
       "      <td>3.39</td>\n",
       "      <td>17850.0</td>\n",
       "      <td>United Kingdom</td>\n",
       "    </tr>\n",
       "    <tr>\n",
       "      <th>2</th>\n",
       "      <td>536365</td>\n",
       "      <td>84406B</td>\n",
       "      <td>CREAM CUPID HEARTS COAT HANGER</td>\n",
       "      <td>8</td>\n",
       "      <td>2010-12-01 08:26:00</td>\n",
       "      <td>2.75</td>\n",
       "      <td>17850.0</td>\n",
       "      <td>United Kingdom</td>\n",
       "    </tr>\n",
       "    <tr>\n",
       "      <th>3</th>\n",
       "      <td>536365</td>\n",
       "      <td>84029G</td>\n",
       "      <td>KNITTED UNION FLAG HOT WATER BOTTLE</td>\n",
       "      <td>6</td>\n",
       "      <td>2010-12-01 08:26:00</td>\n",
       "      <td>3.39</td>\n",
       "      <td>17850.0</td>\n",
       "      <td>United Kingdom</td>\n",
       "    </tr>\n",
       "    <tr>\n",
       "      <th>4</th>\n",
       "      <td>536365</td>\n",
       "      <td>84029E</td>\n",
       "      <td>RED WOOLLY HOTTIE WHITE HEART.</td>\n",
       "      <td>6</td>\n",
       "      <td>2010-12-01 08:26:00</td>\n",
       "      <td>3.39</td>\n",
       "      <td>17850.0</td>\n",
       "      <td>United Kingdom</td>\n",
       "    </tr>\n",
       "  </tbody>\n",
       "</table>\n",
       "</div>"
      ],
      "text/plain": [
       "  InvoiceNo StockCode                          Description  Quantity  \\\n",
       "0    536365    85123A   WHITE HANGING HEART T-LIGHT HOLDER         6   \n",
       "1    536365     71053                  WHITE METAL LANTERN         6   \n",
       "2    536365    84406B       CREAM CUPID HEARTS COAT HANGER         8   \n",
       "3    536365    84029G  KNITTED UNION FLAG HOT WATER BOTTLE         6   \n",
       "4    536365    84029E       RED WOOLLY HOTTIE WHITE HEART.         6   \n",
       "\n",
       "          InvoiceDate  UnitPrice  CustomerID         Country  \n",
       "0 2010-12-01 08:26:00       2.55     17850.0  United Kingdom  \n",
       "1 2010-12-01 08:26:00       3.39     17850.0  United Kingdom  \n",
       "2 2010-12-01 08:26:00       2.75     17850.0  United Kingdom  \n",
       "3 2010-12-01 08:26:00       3.39     17850.0  United Kingdom  \n",
       "4 2010-12-01 08:26:00       3.39     17850.0  United Kingdom  "
      ]
     },
     "execution_count": 4,
     "metadata": {},
     "output_type": "execute_result"
    }
   ],
   "source": [
    "ds.head()"
   ]
  },
  {
   "cell_type": "code",
   "execution_count": 6,
   "id": "dc10ac44",
   "metadata": {},
   "outputs": [
    {
     "name": "stdout",
     "output_type": "stream",
     "text": [
      "<class 'pandas.core.frame.DataFrame'>\n",
      "RangeIndex: 541909 entries, 0 to 541908\n",
      "Data columns (total 8 columns):\n",
      " #   Column       Non-Null Count   Dtype         \n",
      "---  ------       --------------   -----         \n",
      " 0   InvoiceNo    541909 non-null  object        \n",
      " 1   StockCode    541909 non-null  object        \n",
      " 2   Description  540455 non-null  object        \n",
      " 3   Quantity     541909 non-null  int64         \n",
      " 4   InvoiceDate  541909 non-null  datetime64[ns]\n",
      " 5   UnitPrice    541909 non-null  float64       \n",
      " 6   CustomerID   406829 non-null  float64       \n",
      " 7   Country      541909 non-null  object        \n",
      "dtypes: datetime64[ns](1), float64(2), int64(1), object(4)\n",
      "memory usage: 33.1+ MB\n",
      "None\n",
      "(541909, 8)\n",
      "InvoiceNo           0\n",
      "StockCode           0\n",
      "Description      1454\n",
      "Quantity            0\n",
      "InvoiceDate         0\n",
      "UnitPrice           0\n",
      "CustomerID     135080\n",
      "Country             0\n",
      "dtype: int64\n"
     ]
    }
   ],
   "source": [
    "# data cleaning\n",
    "print(ds.info())\n",
    "print(ds.shape)\n",
    "print(ds.isnull().sum())"
   ]
  },
  {
   "cell_type": "code",
   "execution_count": 7,
   "id": "58628bbb",
   "metadata": {},
   "outputs": [
    {
     "name": "stdout",
     "output_type": "stream",
     "text": [
      "<class 'pandas.core.frame.DataFrame'>\n",
      "Int64Index: 406829 entries, 0 to 541908\n",
      "Data columns (total 8 columns):\n",
      " #   Column       Non-Null Count   Dtype         \n",
      "---  ------       --------------   -----         \n",
      " 0   InvoiceNo    406829 non-null  object        \n",
      " 1   StockCode    406829 non-null  object        \n",
      " 2   Description  406829 non-null  object        \n",
      " 3   Quantity     406829 non-null  int64         \n",
      " 4   InvoiceDate  406829 non-null  datetime64[ns]\n",
      " 5   UnitPrice    406829 non-null  float64       \n",
      " 6   CustomerID   406829 non-null  float64       \n",
      " 7   Country      406829 non-null  object        \n",
      "dtypes: datetime64[ns](1), float64(2), int64(1), object(4)\n",
      "memory usage: 27.9+ MB\n",
      "None\n",
      "(406829, 8)\n"
     ]
    }
   ],
   "source": [
    "ds = ds.dropna()\n",
    "print(ds.info())\n",
    "print(ds.shape)"
   ]
  },
  {
   "cell_type": "markdown",
   "id": "e2a71b04",
   "metadata": {},
   "source": [
    "#### What is RFM?"
   ]
  },
  {
   "cell_type": "markdown",
   "id": "1c699c32",
   "metadata": {},
   "source": [
    "##### R(Recency): Number of days since last purchase"
   ]
  },
  {
   "cell_type": "markdown",
   "id": "9b0041d4",
   "metadata": {},
   "source": [
    "##### F(Frequency): Number of transactions"
   ]
  },
  {
   "cell_type": "markdown",
   "id": "80b258d7",
   "metadata": {},
   "source": [
    "##### M (Monetary): Total amount of transaction (revenue contributed)"
   ]
  },
  {
   "cell_type": "code",
   "execution_count": 10,
   "id": "14d94f28",
   "metadata": {},
   "outputs": [
    {
     "name": "stdout",
     "output_type": "stream",
     "text": [
      "CustomerID\n",
      "12346.0       0.00\n",
      "12347.0    4310.00\n",
      "12348.0    1797.24\n",
      "12349.0    1757.55\n",
      "12350.0     334.40\n",
      "            ...   \n",
      "18280.0     180.60\n",
      "18281.0      80.82\n",
      "18282.0     176.60\n",
      "18283.0    2094.88\n",
      "18287.0    1837.28\n",
      "Name: Amount, Length: 4372, dtype: float64\n"
     ]
    }
   ],
   "source": [
    "# data preprocessing\n",
    "ds['CustomerID'] = ds['CustomerID'].astype(str)\n",
    "ds['Amount'] = ds['Quantity']*ds['UnitPrice']\n",
    "rfm_ds_m = ds.groupby('CustomerID')['Amount'].sum()\n",
    "rfm_ds_m.reset_index()\n",
    "rfm_ds_m.columns = ['CustomerID','Amount']\n",
    "print(rfm_ds_m)"
   ]
  },
  {
   "cell_type": "code",
   "execution_count": 11,
   "id": "b2c515e4",
   "metadata": {},
   "outputs": [
    {
     "name": "stdout",
     "output_type": "stream",
     "text": [
      "     CustomerID  Frequency\n",
      "0       12346.0          2\n",
      "1       12347.0        182\n",
      "2       12348.0         31\n",
      "3       12349.0         73\n",
      "4       12350.0         17\n",
      "...         ...        ...\n",
      "4367    18280.0         10\n",
      "4368    18281.0          7\n",
      "4369    18282.0         13\n",
      "4370    18283.0        756\n",
      "4371    18287.0         70\n",
      "\n",
      "[4372 rows x 2 columns]\n"
     ]
    }
   ],
   "source": [
    "rfm_ds_f = ds.groupby('CustomerID')['InvoiceNo'].count()\n",
    "rfm_ds_f = rfm_ds_f.reset_index()\n",
    "rfm_ds_f.columns = ['CustomerID','Frequency']\n",
    "print(rfm_ds_f)"
   ]
  },
  {
   "cell_type": "code",
   "execution_count": 16,
   "id": "5538b824",
   "metadata": {},
   "outputs": [
    {
     "name": "stdout",
     "output_type": "stream",
     "text": [
      "     CustomerID  Diff\n",
      "0       12346.0    18\n",
      "1       12347.0     7\n",
      "2       12348.0    16\n",
      "3       12349.0    21\n",
      "4       12350.0     2\n",
      "...         ...   ...\n",
      "4367    18280.0     7\n",
      "4368    18281.0    12\n",
      "4369    18282.0     5\n",
      "4370    18283.0     6\n",
      "4371    18287.0    22\n",
      "\n",
      "[4372 rows x 2 columns]\n"
     ]
    }
   ],
   "source": [
    "ds['InvoiceDate'] = pd.to_datetime(ds['InvoiceDate'],format='%d-%m-%y %H:%M')\n",
    "max_date = max(ds['InvoiceDate'])\n",
    "ds['Diff'] = max_date = ds['InvoiceDate']\n",
    "rfm_ds_p = ds.groupby('CustomerID')['Diff'].min()\n",
    "rfm_ds_p = rfm_ds_p.reset_index()\n",
    "rfm_ds_p.columns = ['CustomerID','Diff']\n",
    "rfm_ds_p['Diff'] = rfm_ds_p['Diff'].dt.day\n",
    "print(rfm_ds_p)"
   ]
  },
  {
   "cell_type": "code",
   "execution_count": 18,
   "id": "0c4a73be",
   "metadata": {},
   "outputs": [
    {
     "name": "stdout",
     "output_type": "stream",
     "text": [
      "  CustomerId   Amount  Frequency  Recency\n",
      "0    12346.0     0.00          2       18\n",
      "1    12347.0  4310.00        182        7\n",
      "2    12348.0  1797.24         31       16\n",
      "3    12349.0  1757.55         73       21\n",
      "4    12350.0   334.40         17        2\n"
     ]
    }
   ],
   "source": [
    "rfm_ds_final = pd.merge(rfm_ds_m,rfm_ds_f,on='CustomerID', how='inner')\n",
    "rfm_ds_final = pd.merge(rfm_ds_final,rfm_ds_p,on='CustomerID', how='inner')\n",
    "rfm_ds_final.columns = ['CustomerId', 'Amount', 'Frequency', 'Recency']\n",
    "print(rfm_ds_final.head())"
   ]
  },
  {
   "cell_type": "markdown",
   "id": "1b43a480",
   "metadata": {},
   "source": [
    "## Outliers"
   ]
  },
  {
   "cell_type": "code",
   "execution_count": 19,
   "id": "acebe4f4",
   "metadata": {},
   "outputs": [
    {
     "name": "stdout",
     "output_type": "stream",
     "text": [
      "(4293, 4)\n"
     ]
    }
   ],
   "source": [
    "Q1 = rfm_ds_final.Amount.quantile(0.05)\n",
    "Q3 = rfm_ds_final.Amount.quantile(0.95)\n",
    "IQR = Q3-Q1\n",
    "rfm_ds_final = rfm_ds_final[(rfm_ds_final.Amount >= Q1 - 1.5*IQR) & (rfm_ds_final.Amount <= Q3 + 1.5*IQR)]\n",
    "\n",
    "Q1 = rfm_ds_final.Recency.quantile(0.05)\n",
    "Q3 = rfm_ds_final.Recency.quantile(0.95)\n",
    "IQR = Q3-Q1\n",
    "rfm_ds_final = rfm_ds_final[(rfm_ds_final.Recency >= Q1 - 1.5*IQR) & (rfm_ds_final.Recency <= Q3 + 1.5*IQR)]\n",
    "\n",
    "Q1 = rfm_ds_final.Frequency.quantile(0.05)\n",
    "Q3 = rfm_ds_final.Frequency.quantile(0.95)\n",
    "IQR = Q3-Q1\n",
    "rfm_ds_final = rfm_ds_final[(rfm_ds_final.Frequency >= Q1 - 1.5*IQR) & (rfm_ds_final.Frequency <= Q3 + 1.5*IQR)]\n",
    "\n",
    "print(rfm_ds_final.shape)"
   ]
  },
  {
   "cell_type": "markdown",
   "id": "c13c973a",
   "metadata": {},
   "source": [
    "## Scaling"
   ]
  },
  {
   "cell_type": "code",
   "execution_count": 20,
   "id": "4c13c9fb",
   "metadata": {},
   "outputs": [],
   "source": [
    "X = rfm_ds_final[['Amount', 'Frequency', 'Recency']]\n",
    "scaler = MinMaxScaler()\n",
    "rfm_ds_scaled = scaler.fit_transform(X)"
   ]
  },
  {
   "cell_type": "code",
   "execution_count": 21,
   "id": "417275f1",
   "metadata": {},
   "outputs": [
    {
     "data": {
      "text/html": [
       "<div>\n",
       "<style scoped>\n",
       "    .dataframe tbody tr th:only-of-type {\n",
       "        vertical-align: middle;\n",
       "    }\n",
       "\n",
       "    .dataframe tbody tr th {\n",
       "        vertical-align: top;\n",
       "    }\n",
       "\n",
       "    .dataframe thead th {\n",
       "        text-align: right;\n",
       "    }\n",
       "</style>\n",
       "<table border=\"1\" class=\"dataframe\">\n",
       "  <thead>\n",
       "    <tr style=\"text-align: right;\">\n",
       "      <th></th>\n",
       "      <th>Amount</th>\n",
       "      <th>Frequency</th>\n",
       "      <th>Recency</th>\n",
       "    </tr>\n",
       "  </thead>\n",
       "  <tbody>\n",
       "    <tr>\n",
       "      <th>0</th>\n",
       "      <td>0.238663</td>\n",
       "      <td>0.001395</td>\n",
       "      <td>0.566667</td>\n",
       "    </tr>\n",
       "    <tr>\n",
       "      <th>1</th>\n",
       "      <td>0.478571</td>\n",
       "      <td>0.252441</td>\n",
       "      <td>0.200000</td>\n",
       "    </tr>\n",
       "    <tr>\n",
       "      <th>2</th>\n",
       "      <td>0.338703</td>\n",
       "      <td>0.041841</td>\n",
       "      <td>0.500000</td>\n",
       "    </tr>\n",
       "    <tr>\n",
       "      <th>3</th>\n",
       "      <td>0.336494</td>\n",
       "      <td>0.100418</td>\n",
       "      <td>0.666667</td>\n",
       "    </tr>\n",
       "    <tr>\n",
       "      <th>4</th>\n",
       "      <td>0.257277</td>\n",
       "      <td>0.022315</td>\n",
       "      <td>0.033333</td>\n",
       "    </tr>\n",
       "  </tbody>\n",
       "</table>\n",
       "</div>"
      ],
      "text/plain": [
       "     Amount  Frequency   Recency\n",
       "0  0.238663   0.001395  0.566667\n",
       "1  0.478571   0.252441  0.200000\n",
       "2  0.338703   0.041841  0.500000\n",
       "3  0.336494   0.100418  0.666667\n",
       "4  0.257277   0.022315  0.033333"
      ]
     },
     "execution_count": 21,
     "metadata": {},
     "output_type": "execute_result"
    }
   ],
   "source": [
    "rfm_ds_scaled = pd.DataFrame(rfm_ds_scaled)\n",
    "rfm_ds_scaled.columns = ['Amount', 'Frequency', 'Recency']\n",
    "rfm_ds_scaled.head()"
   ]
  },
  {
   "cell_type": "markdown",
   "id": "7576646a",
   "metadata": {},
   "source": [
    "## Model Creation"
   ]
  },
  {
   "cell_type": "code",
   "execution_count": 22,
   "id": "0c67d983",
   "metadata": {},
   "outputs": [
    {
     "name": "stderr",
     "output_type": "stream",
     "text": [
      "C:\\ProgramData\\anaconda3\\lib\\site-packages\\sklearn\\cluster\\_kmeans.py:870: FutureWarning: The default value of `n_init` will change from 10 to 'auto' in 1.4. Set the value of `n_init` explicitly to suppress the warning\n",
      "  warnings.warn(\n"
     ]
    },
    {
     "name": "stdout",
     "output_type": "stream",
     "text": [
      "[1 0 1 ... 2 2 1]\n"
     ]
    }
   ],
   "source": [
    "Kmeans = KMeans(n_clusters=3, max_iter=50)\n",
    "Kmeans.fit(rfm_ds_scaled)\n",
    "lbs = Kmeans.labels_\n",
    "print(Kmeans.labels_)"
   ]
  },
  {
   "cell_type": "code",
   "execution_count": 24,
   "id": "d52bac50",
   "metadata": {},
   "outputs": [
    {
     "name": "stderr",
     "output_type": "stream",
     "text": [
      "C:\\ProgramData\\anaconda3\\lib\\site-packages\\sklearn\\cluster\\_kmeans.py:870: FutureWarning: The default value of `n_init` will change from 10 to 'auto' in 1.4. Set the value of `n_init` explicitly to suppress the warning\n",
      "  warnings.warn(\n",
      "C:\\ProgramData\\anaconda3\\lib\\site-packages\\sklearn\\cluster\\_kmeans.py:870: FutureWarning: The default value of `n_init` will change from 10 to 'auto' in 1.4. Set the value of `n_init` explicitly to suppress the warning\n",
      "  warnings.warn(\n",
      "C:\\ProgramData\\anaconda3\\lib\\site-packages\\sklearn\\cluster\\_kmeans.py:870: FutureWarning: The default value of `n_init` will change from 10 to 'auto' in 1.4. Set the value of `n_init` explicitly to suppress the warning\n",
      "  warnings.warn(\n",
      "C:\\ProgramData\\anaconda3\\lib\\site-packages\\sklearn\\cluster\\_kmeans.py:870: FutureWarning: The default value of `n_init` will change from 10 to 'auto' in 1.4. Set the value of `n_init` explicitly to suppress the warning\n",
      "  warnings.warn(\n",
      "C:\\ProgramData\\anaconda3\\lib\\site-packages\\sklearn\\cluster\\_kmeans.py:870: FutureWarning: The default value of `n_init` will change from 10 to 'auto' in 1.4. Set the value of `n_init` explicitly to suppress the warning\n",
      "  warnings.warn(\n",
      "C:\\ProgramData\\anaconda3\\lib\\site-packages\\sklearn\\cluster\\_kmeans.py:870: FutureWarning: The default value of `n_init` will change from 10 to 'auto' in 1.4. Set the value of `n_init` explicitly to suppress the warning\n",
      "  warnings.warn(\n",
      "C:\\ProgramData\\anaconda3\\lib\\site-packages\\sklearn\\cluster\\_kmeans.py:870: FutureWarning: The default value of `n_init` will change from 10 to 'auto' in 1.4. Set the value of `n_init` explicitly to suppress the warning\n",
      "  warnings.warn(\n",
      "C:\\ProgramData\\anaconda3\\lib\\site-packages\\sklearn\\cluster\\_kmeans.py:870: FutureWarning: The default value of `n_init` will change from 10 to 'auto' in 1.4. Set the value of `n_init` explicitly to suppress the warning\n",
      "  warnings.warn(\n"
     ]
    },
    {
     "data": {
      "text/plain": [
       "<function matplotlib.pyplot.show(close=None, block=None)>"
      ]
     },
     "execution_count": 24,
     "metadata": {},
     "output_type": "execute_result"
    },
    {
     "data": {
      "image/png": "[encoded data removed]",
      "text/plain": [
       "<Figure size 640x480 with 1 Axes>"
      ]
     },
     "metadata": {},
     "output_type": "display_data"
    }
   ],
   "source": [
    "# WSS\n",
    "wss = []\n",
    "range_n_clusters = [2,3,4,5,5,6,7,8]\n",
    "for num_clusters in range_n_clusters:\n",
    "    Kmeans = KMeans(n_clusters=num_clusters, max_iter=50)\n",
    "    Kmeans.fit(rfm_ds_scaled)\n",
    "    wss.append(Kmeans.inertia_)\n",
    "    \n",
    "plt.plot(wss)\n",
    "plt.show"
   ]
  },
  {
   "cell_type": "code",
   "execution_count": 25,
   "id": "9d23b2da",
   "metadata": {},
   "outputs": [
    {
     "data": {
      "text/html": [
       "<div>\n",
       "<style scoped>\n",
       "    .dataframe tbody tr th:only-of-type {\n",
       "        vertical-align: middle;\n",
       "    }\n",
       "\n",
       "    .dataframe tbody tr th {\n",
       "        vertical-align: top;\n",
       "    }\n",
       "\n",
       "    .dataframe thead th {\n",
       "        text-align: right;\n",
       "    }\n",
       "</style>\n",
       "<table border=\"1\" class=\"dataframe\">\n",
       "  <thead>\n",
       "    <tr style=\"text-align: right;\">\n",
       "      <th></th>\n",
       "      <th>CustomerId</th>\n",
       "      <th>Amount</th>\n",
       "      <th>Frequency</th>\n",
       "      <th>Recency</th>\n",
       "      <th>Cluster_id</th>\n",
       "    </tr>\n",
       "  </thead>\n",
       "  <tbody>\n",
       "    <tr>\n",
       "      <th>0</th>\n",
       "      <td>12346.0</td>\n",
       "      <td>0.00</td>\n",
       "      <td>2</td>\n",
       "      <td>18</td>\n",
       "      <td>1</td>\n",
       "    </tr>\n",
       "    <tr>\n",
       "      <th>1</th>\n",
       "      <td>12347.0</td>\n",
       "      <td>4310.00</td>\n",
       "      <td>182</td>\n",
       "      <td>7</td>\n",
       "      <td>0</td>\n",
       "    </tr>\n",
       "    <tr>\n",
       "      <th>2</th>\n",
       "      <td>12348.0</td>\n",
       "      <td>1797.24</td>\n",
       "      <td>31</td>\n",
       "      <td>16</td>\n",
       "      <td>1</td>\n",
       "    </tr>\n",
       "    <tr>\n",
       "      <th>3</th>\n",
       "      <td>12349.0</td>\n",
       "      <td>1757.55</td>\n",
       "      <td>73</td>\n",
       "      <td>21</td>\n",
       "      <td>1</td>\n",
       "    </tr>\n",
       "    <tr>\n",
       "      <th>4</th>\n",
       "      <td>12350.0</td>\n",
       "      <td>334.40</td>\n",
       "      <td>17</td>\n",
       "      <td>2</td>\n",
       "      <td>2</td>\n",
       "    </tr>\n",
       "  </tbody>\n",
       "</table>\n",
       "</div>"
      ],
      "text/plain": [
       "  CustomerId   Amount  Frequency  Recency  Cluster_id\n",
       "0    12346.0     0.00          2       18           1\n",
       "1    12347.0  4310.00        182        7           0\n",
       "2    12348.0  1797.24         31       16           1\n",
       "3    12349.0  1757.55         73       21           1\n",
       "4    12350.0   334.40         17        2           2"
      ]
     },
     "execution_count": 25,
     "metadata": {},
     "output_type": "execute_result"
    }
   ],
   "source": [
    "rfm_ds_final['Cluster_id'] = lbs\n",
    "rfm_ds_final.head()"
   ]
  },
  {
   "cell_type": "code",
   "execution_count": 36,
   "id": "908bcddd",
   "metadata": {},
   "outputs": [
    {
     "data": {
      "text/plain": [
       "<AxesSubplot: xlabel='Cluster_id', ylabel='Amount'>"
      ]
     },
     "execution_count": 36,
     "metadata": {},
     "output_type": "execute_result"
    },
    {
     "data": {
      "image/png": "[encoded data removed]",
      "text/plain": [
       "<Figure size 640x480 with 1 Axes>"
      ]
     },
     "metadata": {},
     "output_type": "display_data"
    }
   ],
   "source": [
    "sns.boxplot(x='Cluster_id', y='Amount', data=rfm_ds_final)"
   ]
  },
  {
   "cell_type": "code",
   "execution_count": 37,
   "id": "e327d3d8",
   "metadata": {},
   "outputs": [
    {
     "data": {
      "text/plain": [
       "<AxesSubplot: xlabel='Cluster_id', ylabel='Frequency'>"
      ]
     },
     "execution_count": 37,
     "metadata": {},
     "output_type": "execute_result"
    },
    {
     "data": {
      "image/png": "[encoded data removed]",
      "text/plain": [
       "<Figure size 640x480 with 1 Axes>"
      ]
     },
     "metadata": {},
     "output_type": "display_data"
    }
   ],
   "source": [
    "sns.boxplot(x='Cluster_id', y='Frequency', data=rfm_ds_final)"
   ]
  },
  {
   "cell_type": "code",
   "execution_count": 38,
   "id": "7c97e77f",
   "metadata": {},
   "outputs": [
    {
     "data": {
      "text/plain": [
       "<AxesSubplot: xlabel='Cluster_id', ylabel='Recency'>"
      ]
     },
     "execution_count": 38,
     "metadata": {},
     "output_type": "execute_result"
    },
    {
     "data": {
      "image/png": "[encoded data removed]",
      "text/plain": [
       "<Figure size 640x480 with 1 Axes>"
      ]
     },
     "metadata": {},
     "output_type": "display_data"
    }
   ],
   "source": [
    "sns.boxplot(x='Cluster_id', y='Recency', data=rfm_ds_final)"
   ]
  },
  {
   "cell_type": "code",
   "execution_count": null,
   "id": "ed37dee1",
   "metadata": {},
   "outputs": [],
   "source": []
  }
 ],
 "metadata": {
  "kernelspec": {
   "display_name": "Python 3 (ipykernel)",
   "language": "python",
   "name": "python3"
  },
  "language_info": {
   "codemirror_mode": {
    "name": "ipython",
    "version": 3
   },
   "file_extension": ".py",
   "mimetype": "text/x-python",
   "name": "python",
   "nbconvert_exporter": "python",
   "pygments_lexer": "ipython3",
   "version": "3.10.9"
  }
 },
 "nbformat": 4,
 "nbformat_minor": 5
}
